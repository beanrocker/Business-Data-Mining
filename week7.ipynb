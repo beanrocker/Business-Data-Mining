{
 "cells": [
  {
   "cell_type": "code",
   "execution_count": 1,
   "id": "2057484a",
   "metadata": {
    "execution": {
     "iopub.execute_input": "2021-08-29T02:16:24.247523Z",
     "iopub.status.busy": "2021-08-29T02:16:24.246807Z",
     "iopub.status.idle": "2021-08-29T02:16:24.250833Z",
     "shell.execute_reply": "2021-08-29T02:16:24.250084Z",
     "shell.execute_reply.started": "2021-08-28T20:04:18.213024Z"
    },
    "papermill": {
     "duration": 0.05864,
     "end_time": "2021-08-29T02:16:24.251004",
     "exception": false,
     "start_time": "2021-08-29T02:16:24.192364",
     "status": "completed"
    },
    "tags": []
   },
   "outputs": [],
   "source": [
    "import pandas as pd\n",
    "import numpy as np"
   ]
  },
  {
   "cell_type": "code",
   "execution_count": 2,
   "id": "3585683b",
   "metadata": {
    "execution": {
     "iopub.execute_input": "2021-08-29T02:16:24.348532Z",
     "iopub.status.busy": "2021-08-29T02:16:24.340657Z",
     "iopub.status.idle": "2021-08-29T02:16:24.820889Z",
     "shell.execute_reply": "2021-08-29T02:16:24.820328Z",
     "shell.execute_reply.started": "2021-08-28T20:04:18.220177Z"
    },
    "papermill": {
     "duration": 0.527445,
     "end_time": "2021-08-29T02:16:24.821051",
     "exception": false,
     "start_time": "2021-08-29T02:16:24.293606",
     "status": "completed"
    },
    "tags": []
   },
   "outputs": [
    {
     "data": {
      "text/html": [
       "<div>\n",
       "<style scoped>\n",
       "    .dataframe tbody tr th:only-of-type {\n",
       "        vertical-align: middle;\n",
       "    }\n",
       "\n",
       "    .dataframe tbody tr th {\n",
       "        vertical-align: top;\n",
       "    }\n",
       "\n",
       "    .dataframe thead th {\n",
       "        text-align: right;\n",
       "    }\n",
       "</style>\n",
       "<table border=\"1\" class=\"dataframe\">\n",
       "  <thead>\n",
       "    <tr style=\"text-align: right;\">\n",
       "      <th></th>\n",
       "      <th>age</th>\n",
       "      <th>parity</th>\n",
       "      <th>hiv</th>\n",
       "      <th>menopaus</th>\n",
       "      <th>disease</th>\n",
       "      <th>surgery</th>\n",
       "      <th>conization</th>\n",
       "      <th>OPDsize</th>\n",
       "      <th>appearance</th>\n",
       "      <th>stage</th>\n",
       "      <th>...</th>\n",
       "      <th>nodeyiel</th>\n",
       "      <th>RHlvsi</th>\n",
       "      <th>depth</th>\n",
       "      <th>size</th>\n",
       "      <th>utmet</th>\n",
       "      <th>vgmargin</th>\n",
       "      <th>vgmet</th>\n",
       "      <th>pelvicme</th>\n",
       "      <th>pmmet</th>\n",
       "      <th>adnmet</th>\n",
       "    </tr>\n",
       "    <tr>\n",
       "      <th>hn</th>\n",
       "      <th></th>\n",
       "      <th></th>\n",
       "      <th></th>\n",
       "      <th></th>\n",
       "      <th></th>\n",
       "      <th></th>\n",
       "      <th></th>\n",
       "      <th></th>\n",
       "      <th></th>\n",
       "      <th></th>\n",
       "      <th></th>\n",
       "      <th></th>\n",
       "      <th></th>\n",
       "      <th></th>\n",
       "      <th></th>\n",
       "      <th></th>\n",
       "      <th></th>\n",
       "      <th></th>\n",
       "      <th></th>\n",
       "      <th></th>\n",
       "      <th></th>\n",
       "    </tr>\n",
       "  </thead>\n",
       "  <tbody>\n",
       "    <tr>\n",
       "      <th>2631840</th>\n",
       "      <td>52</td>\n",
       "      <td>3</td>\n",
       "      <td>0.0</td>\n",
       "      <td>0.0</td>\n",
       "      <td>1</td>\n",
       "      <td>1</td>\n",
       "      <td>0.0</td>\n",
       "      <td>5.0</td>\n",
       "      <td>4.0</td>\n",
       "      <td>5.0</td>\n",
       "      <td>...</td>\n",
       "      <td>21.0</td>\n",
       "      <td>0.0</td>\n",
       "      <td>3.0</td>\n",
       "      <td>6.0</td>\n",
       "      <td>0.0</td>\n",
       "      <td>0.0</td>\n",
       "      <td>0.0</td>\n",
       "      <td>0.0</td>\n",
       "      <td>0.0</td>\n",
       "      <td>0.0</td>\n",
       "    </tr>\n",
       "    <tr>\n",
       "      <th>2633481</th>\n",
       "      <td>32</td>\n",
       "      <td>2</td>\n",
       "      <td>0.0</td>\n",
       "      <td>0.0</td>\n",
       "      <td>0</td>\n",
       "      <td>1</td>\n",
       "      <td>0.0</td>\n",
       "      <td>5.0</td>\n",
       "      <td>1.0</td>\n",
       "      <td>5.0</td>\n",
       "      <td>...</td>\n",
       "      <td>11.0</td>\n",
       "      <td>0.0</td>\n",
       "      <td>3.0</td>\n",
       "      <td>5.0</td>\n",
       "      <td>0.0</td>\n",
       "      <td>0.0</td>\n",
       "      <td>0.0</td>\n",
       "      <td>1.0</td>\n",
       "      <td>0.0</td>\n",
       "      <td>2.0</td>\n",
       "    </tr>\n",
       "    <tr>\n",
       "      <th>2634477</th>\n",
       "      <td>52</td>\n",
       "      <td>2</td>\n",
       "      <td>0.0</td>\n",
       "      <td>0.0</td>\n",
       "      <td>0</td>\n",
       "      <td>0</td>\n",
       "      <td>0.0</td>\n",
       "      <td>5.0</td>\n",
       "      <td>NaN</td>\n",
       "      <td>5.0</td>\n",
       "      <td>...</td>\n",
       "      <td>35.0</td>\n",
       "      <td>6.0</td>\n",
       "      <td>3.0</td>\n",
       "      <td>4.0</td>\n",
       "      <td>0.0</td>\n",
       "      <td>0.0</td>\n",
       "      <td>0.0</td>\n",
       "      <td>0.0</td>\n",
       "      <td>0.0</td>\n",
       "      <td>0.0</td>\n",
       "    </tr>\n",
       "    <tr>\n",
       "      <th>2633633</th>\n",
       "      <td>38</td>\n",
       "      <td>2</td>\n",
       "      <td>0.0</td>\n",
       "      <td>0.0</td>\n",
       "      <td>0</td>\n",
       "      <td>0</td>\n",
       "      <td>0.0</td>\n",
       "      <td>2.0</td>\n",
       "      <td>1.0</td>\n",
       "      <td>4.0</td>\n",
       "      <td>...</td>\n",
       "      <td>20.0</td>\n",
       "      <td>16.0</td>\n",
       "      <td>3.0</td>\n",
       "      <td>3.8</td>\n",
       "      <td>0.0</td>\n",
       "      <td>0.0</td>\n",
       "      <td>0.0</td>\n",
       "      <td>0.0</td>\n",
       "      <td>0.0</td>\n",
       "      <td>2.0</td>\n",
       "    </tr>\n",
       "    <tr>\n",
       "      <th>2630496</th>\n",
       "      <td>55</td>\n",
       "      <td>3</td>\n",
       "      <td>0.0</td>\n",
       "      <td>1.0</td>\n",
       "      <td>0</td>\n",
       "      <td>0</td>\n",
       "      <td>1.0</td>\n",
       "      <td>0.0</td>\n",
       "      <td>5.0</td>\n",
       "      <td>4.0</td>\n",
       "      <td>...</td>\n",
       "      <td>17.0</td>\n",
       "      <td>9.0</td>\n",
       "      <td>3.0</td>\n",
       "      <td>0.0</td>\n",
       "      <td>0.0</td>\n",
       "      <td>0.0</td>\n",
       "      <td>0.0</td>\n",
       "      <td>1.0</td>\n",
       "      <td>0.0</td>\n",
       "      <td>0.0</td>\n",
       "    </tr>\n",
       "    <tr>\n",
       "      <th>...</th>\n",
       "      <td>...</td>\n",
       "      <td>...</td>\n",
       "      <td>...</td>\n",
       "      <td>...</td>\n",
       "      <td>...</td>\n",
       "      <td>...</td>\n",
       "      <td>...</td>\n",
       "      <td>...</td>\n",
       "      <td>...</td>\n",
       "      <td>...</td>\n",
       "      <td>...</td>\n",
       "      <td>...</td>\n",
       "      <td>...</td>\n",
       "      <td>...</td>\n",
       "      <td>...</td>\n",
       "      <td>...</td>\n",
       "      <td>...</td>\n",
       "      <td>...</td>\n",
       "      <td>...</td>\n",
       "      <td>...</td>\n",
       "      <td>...</td>\n",
       "    </tr>\n",
       "    <tr>\n",
       "      <th>3169688</th>\n",
       "      <td>47</td>\n",
       "      <td>2</td>\n",
       "      <td>0.0</td>\n",
       "      <td>0.0</td>\n",
       "      <td>0</td>\n",
       "      <td>0</td>\n",
       "      <td>1.0</td>\n",
       "      <td>0.0</td>\n",
       "      <td>5.0</td>\n",
       "      <td>4.0</td>\n",
       "      <td>...</td>\n",
       "      <td>42.0</td>\n",
       "      <td>5.0</td>\n",
       "      <td>2.0</td>\n",
       "      <td>1.1</td>\n",
       "      <td>0.0</td>\n",
       "      <td>0.0</td>\n",
       "      <td>0.0</td>\n",
       "      <td>0.0</td>\n",
       "      <td>0.0</td>\n",
       "      <td>2.0</td>\n",
       "    </tr>\n",
       "    <tr>\n",
       "      <th>3167041</th>\n",
       "      <td>39</td>\n",
       "      <td>1</td>\n",
       "      <td>0.0</td>\n",
       "      <td>0.0</td>\n",
       "      <td>0</td>\n",
       "      <td>0</td>\n",
       "      <td>1.0</td>\n",
       "      <td>0.0</td>\n",
       "      <td>5.0</td>\n",
       "      <td>2.0</td>\n",
       "      <td>...</td>\n",
       "      <td>20.0</td>\n",
       "      <td>0.0</td>\n",
       "      <td>NaN</td>\n",
       "      <td>0.0</td>\n",
       "      <td>0.0</td>\n",
       "      <td>0.0</td>\n",
       "      <td>0.0</td>\n",
       "      <td>0.0</td>\n",
       "      <td>0.0</td>\n",
       "      <td>2.0</td>\n",
       "    </tr>\n",
       "    <tr>\n",
       "      <th>2623351</th>\n",
       "      <td>46</td>\n",
       "      <td>2</td>\n",
       "      <td>0.0</td>\n",
       "      <td>0.0</td>\n",
       "      <td>0</td>\n",
       "      <td>0</td>\n",
       "      <td>1.0</td>\n",
       "      <td>0.0</td>\n",
       "      <td>5.0</td>\n",
       "      <td>1.0</td>\n",
       "      <td>...</td>\n",
       "      <td>13.0</td>\n",
       "      <td>NaN</td>\n",
       "      <td>NaN</td>\n",
       "      <td>0.0</td>\n",
       "      <td>0.0</td>\n",
       "      <td>0.0</td>\n",
       "      <td>0.0</td>\n",
       "      <td>0.0</td>\n",
       "      <td>0.0</td>\n",
       "      <td>0.0</td>\n",
       "    </tr>\n",
       "    <tr>\n",
       "      <th>3302539</th>\n",
       "      <td>44</td>\n",
       "      <td>3</td>\n",
       "      <td>0.0</td>\n",
       "      <td>0.0</td>\n",
       "      <td>0</td>\n",
       "      <td>1</td>\n",
       "      <td>1.0</td>\n",
       "      <td>0.0</td>\n",
       "      <td>5.0</td>\n",
       "      <td>4.0</td>\n",
       "      <td>...</td>\n",
       "      <td>15.0</td>\n",
       "      <td>NaN</td>\n",
       "      <td>NaN</td>\n",
       "      <td>0.0</td>\n",
       "      <td>0.0</td>\n",
       "      <td>0.0</td>\n",
       "      <td>0.0</td>\n",
       "      <td>0.0</td>\n",
       "      <td>0.0</td>\n",
       "      <td>0.0</td>\n",
       "    </tr>\n",
       "    <tr>\n",
       "      <th>3855674</th>\n",
       "      <td>38</td>\n",
       "      <td>2</td>\n",
       "      <td>0.0</td>\n",
       "      <td>0.0</td>\n",
       "      <td>0</td>\n",
       "      <td>0</td>\n",
       "      <td>0.0</td>\n",
       "      <td>3.0</td>\n",
       "      <td>4.0</td>\n",
       "      <td>4.0</td>\n",
       "      <td>...</td>\n",
       "      <td>21.0</td>\n",
       "      <td>999.0</td>\n",
       "      <td>3.0</td>\n",
       "      <td>2.5</td>\n",
       "      <td>0.0</td>\n",
       "      <td>2.0</td>\n",
       "      <td>1.0</td>\n",
       "      <td>1.0</td>\n",
       "      <td>1.0</td>\n",
       "      <td>0.0</td>\n",
       "    </tr>\n",
       "  </tbody>\n",
       "</table>\n",
       "<p>1723 rows × 23 columns</p>\n",
       "</div>"
      ],
      "text/plain": [
       "         age  parity  hiv  menopaus  disease  surgery  conization  OPDsize  \\\n",
       "hn                                                                           \n",
       "2631840   52       3  0.0       0.0        1        1         0.0      5.0   \n",
       "2633481   32       2  0.0       0.0        0        1         0.0      5.0   \n",
       "2634477   52       2  0.0       0.0        0        0         0.0      5.0   \n",
       "2633633   38       2  0.0       0.0        0        0         0.0      2.0   \n",
       "2630496   55       3  0.0       1.0        0        0         1.0      0.0   \n",
       "...      ...     ...  ...       ...      ...      ...         ...      ...   \n",
       "3169688   47       2  0.0       0.0        0        0         1.0      0.0   \n",
       "3167041   39       1  0.0       0.0        0        0         1.0      0.0   \n",
       "2623351   46       2  0.0       0.0        0        0         1.0      0.0   \n",
       "3302539   44       3  0.0       0.0        0        1         1.0      0.0   \n",
       "3855674   38       2  0.0       0.0        0        0         0.0      3.0   \n",
       "\n",
       "         appearance  stage  ...  nodeyiel  RHlvsi  depth  size  utmet  \\\n",
       "hn                          ...                                         \n",
       "2631840         4.0    5.0  ...      21.0     0.0    3.0   6.0    0.0   \n",
       "2633481         1.0    5.0  ...      11.0     0.0    3.0   5.0    0.0   \n",
       "2634477         NaN    5.0  ...      35.0     6.0    3.0   4.0    0.0   \n",
       "2633633         1.0    4.0  ...      20.0    16.0    3.0   3.8    0.0   \n",
       "2630496         5.0    4.0  ...      17.0     9.0    3.0   0.0    0.0   \n",
       "...             ...    ...  ...       ...     ...    ...   ...    ...   \n",
       "3169688         5.0    4.0  ...      42.0     5.0    2.0   1.1    0.0   \n",
       "3167041         5.0    2.0  ...      20.0     0.0    NaN   0.0    0.0   \n",
       "2623351         5.0    1.0  ...      13.0     NaN    NaN   0.0    0.0   \n",
       "3302539         5.0    4.0  ...      15.0     NaN    NaN   0.0    0.0   \n",
       "3855674         4.0    4.0  ...      21.0   999.0    3.0   2.5    0.0   \n",
       "\n",
       "         vgmargin  vgmet  pelvicme  pmmet  adnmet  \n",
       "hn                                                 \n",
       "2631840       0.0    0.0       0.0    0.0     0.0  \n",
       "2633481       0.0    0.0       1.0    0.0     2.0  \n",
       "2634477       0.0    0.0       0.0    0.0     0.0  \n",
       "2633633       0.0    0.0       0.0    0.0     2.0  \n",
       "2630496       0.0    0.0       1.0    0.0     0.0  \n",
       "...           ...    ...       ...    ...     ...  \n",
       "3169688       0.0    0.0       0.0    0.0     2.0  \n",
       "3167041       0.0    0.0       0.0    0.0     2.0  \n",
       "2623351       0.0    0.0       0.0    0.0     0.0  \n",
       "3302539       0.0    0.0       0.0    0.0     0.0  \n",
       "3855674       2.0    1.0       1.0    1.0     0.0  \n",
       "\n",
       "[1723 rows x 23 columns]"
      ]
     },
     "execution_count": 2,
     "metadata": {},
     "output_type": "execute_result"
    }
   ],
   "source": [
    "df = pd.read_csv('https://raw.githubusercontent.com/plenoi/Clinic/master/ultima_all_clean.csv', sep=',', header = 0)\n",
    "df = df.set_index('hn')\n",
    "df"
   ]
  },
  {
   "cell_type": "code",
   "execution_count": 3,
   "id": "4a33deb0",
   "metadata": {
    "execution": {
     "iopub.execute_input": "2021-08-29T02:16:24.914136Z",
     "iopub.status.busy": "2021-08-29T02:16:24.913222Z",
     "iopub.status.idle": "2021-08-29T02:16:24.937787Z",
     "shell.execute_reply": "2021-08-29T02:16:24.937199Z",
     "shell.execute_reply.started": "2021-08-28T20:04:18.337249Z"
    },
    "papermill": {
     "duration": 0.07574,
     "end_time": "2021-08-29T02:16:24.937941",
     "exception": false,
     "start_time": "2021-08-29T02:16:24.862201",
     "status": "completed"
    },
    "tags": []
   },
   "outputs": [
    {
     "data": {
      "text/plain": [
       "age            0.000000\n",
       "parity         0.000000\n",
       "hiv            0.232153\n",
       "menopaus       0.058038\n",
       "disease        0.000000\n",
       "surgery        0.000000\n",
       "conization     0.290192\n",
       "OPDsize        0.986651\n",
       "appearance     5.861869\n",
       "stage          1.392919\n",
       "pchemo         0.058038\n",
       "Wardsize       8.415554\n",
       "finalhisto     0.580383\n",
       "nodeyiel       0.696460\n",
       "RHlvsi        21.242020\n",
       "depth         28.380731\n",
       "size           6.616367\n",
       "utmet          5.687754\n",
       "vgmargin       5.571677\n",
       "vgmet          5.629716\n",
       "pelvicme       0.058038\n",
       "pmmet          5.455601\n",
       "adnmet         0.406268\n",
       "dtype: float64"
      ]
     },
     "execution_count": 3,
     "metadata": {},
     "output_type": "execute_result"
    }
   ],
   "source": [
    "df.isnull().sum()/1723*100"
   ]
  },
  {
   "cell_type": "code",
   "execution_count": 4,
   "id": "12f3e7a7",
   "metadata": {
    "execution": {
     "iopub.execute_input": "2021-08-29T02:16:25.032373Z",
     "iopub.status.busy": "2021-08-29T02:16:25.031383Z",
     "iopub.status.idle": "2021-08-29T02:16:25.035644Z",
     "shell.execute_reply": "2021-08-29T02:16:25.036122Z",
     "shell.execute_reply.started": "2021-08-28T20:04:18.348852Z"
    },
    "papermill": {
     "duration": 0.0568,
     "end_time": "2021-08-29T02:16:25.036313",
     "exception": false,
     "start_time": "2021-08-29T02:16:24.979513",
     "status": "completed"
    },
    "tags": []
   },
   "outputs": [
    {
     "data": {
      "text/plain": [
       "age             0\n",
       "parity          0\n",
       "hiv             4\n",
       "menopaus        1\n",
       "disease         0\n",
       "surgery         0\n",
       "conization      5\n",
       "OPDsize        17\n",
       "stage          24\n",
       "pchemo          1\n",
       "finalhisto     10\n",
       "size          114\n",
       "utmet          98\n",
       "vgmet          97\n",
       "pmmet          94\n",
       "dtype: int64"
      ]
     },
     "execution_count": 4,
     "metadata": {},
     "output_type": "execute_result"
    }
   ],
   "source": [
    "df_clean_column = df.drop(['appearance','Wardsize','RHlvsi','depth','nodeyiel','vgmargin','pelvicme','adnmet'],axis = 1)\n",
    "df_clean_column.isnull().sum(axis=0)"
   ]
  },
  {
   "cell_type": "markdown",
   "id": "d3784716",
   "metadata": {
    "papermill": {
     "duration": 0.041242,
     "end_time": "2021-08-29T02:16:25.119220",
     "exception": false,
     "start_time": "2021-08-29T02:16:25.077978",
     "status": "completed"
    },
    "tags": []
   },
   "source": [
    "dropna คือ colไหนมีค่าว่างลบทั้งcol"
   ]
  },
  {
   "cell_type": "code",
   "execution_count": 5,
   "id": "c89244de",
   "metadata": {
    "execution": {
     "iopub.execute_input": "2021-08-29T02:16:25.209141Z",
     "iopub.status.busy": "2021-08-29T02:16:25.208105Z",
     "iopub.status.idle": "2021-08-29T02:16:25.215499Z",
     "shell.execute_reply": "2021-08-29T02:16:25.214901Z",
     "shell.execute_reply.started": "2021-08-28T20:04:18.363641Z"
    },
    "papermill": {
     "duration": 0.055269,
     "end_time": "2021-08-29T02:16:25.215658",
     "exception": false,
     "start_time": "2021-08-29T02:16:25.160389",
     "status": "completed"
    },
    "tags": []
   },
   "outputs": [],
   "source": [
    "df_clean = df_clean_column.dropna(axis = 0)"
   ]
  },
  {
   "cell_type": "code",
   "execution_count": 6,
   "id": "3ffd861a",
   "metadata": {
    "execution": {
     "iopub.execute_input": "2021-08-29T02:16:25.306662Z",
     "iopub.status.busy": "2021-08-29T02:16:25.306008Z",
     "iopub.status.idle": "2021-08-29T02:16:25.309627Z",
     "shell.execute_reply": "2021-08-29T02:16:25.309078Z",
     "shell.execute_reply.started": "2021-08-28T20:04:18.376481Z"
    },
    "papermill": {
     "duration": 0.052866,
     "end_time": "2021-08-29T02:16:25.309783",
     "exception": false,
     "start_time": "2021-08-29T02:16:25.256917",
     "status": "completed"
    },
    "tags": []
   },
   "outputs": [
    {
     "data": {
      "text/plain": [
       "age           0\n",
       "parity        0\n",
       "hiv           0\n",
       "menopaus      0\n",
       "disease       0\n",
       "surgery       0\n",
       "conization    0\n",
       "OPDsize       0\n",
       "stage         0\n",
       "pchemo        0\n",
       "finalhisto    0\n",
       "size          0\n",
       "utmet         0\n",
       "vgmet         0\n",
       "pmmet         0\n",
       "dtype: int64"
      ]
     },
     "execution_count": 6,
     "metadata": {},
     "output_type": "execute_result"
    }
   ],
   "source": [
    "df_clean.isnull().sum()"
   ]
  },
  {
   "cell_type": "code",
   "execution_count": 7,
   "id": "f4d00cd9",
   "metadata": {
    "execution": {
     "iopub.execute_input": "2021-08-29T02:16:25.395584Z",
     "iopub.status.busy": "2021-08-29T02:16:25.394971Z",
     "iopub.status.idle": "2021-08-29T02:16:25.400071Z",
     "shell.execute_reply": "2021-08-29T02:16:25.400657Z",
     "shell.execute_reply.started": "2021-08-28T20:04:18.388445Z"
    },
    "papermill": {
     "duration": 0.050131,
     "end_time": "2021-08-29T02:16:25.400825",
     "exception": false,
     "start_time": "2021-08-29T02:16:25.350694",
     "status": "completed"
    },
    "tags": []
   },
   "outputs": [
    {
     "data": {
      "text/plain": [
       "(1555, 15)"
      ]
     },
     "execution_count": 7,
     "metadata": {},
     "output_type": "execute_result"
    }
   ],
   "source": [
    "df_clean.shape"
   ]
  },
  {
   "cell_type": "code",
   "execution_count": 8,
   "id": "29844a9b",
   "metadata": {
    "execution": {
     "iopub.execute_input": "2021-08-29T02:16:25.490765Z",
     "iopub.status.busy": "2021-08-29T02:16:25.489319Z",
     "iopub.status.idle": "2021-08-29T02:16:25.495623Z",
     "shell.execute_reply": "2021-08-29T02:16:25.496319Z",
     "shell.execute_reply.started": "2021-08-28T20:04:18.398639Z"
    },
    "papermill": {
     "duration": 0.054881,
     "end_time": "2021-08-29T02:16:25.496548",
     "exception": false,
     "start_time": "2021-08-29T02:16:25.441667",
     "status": "completed"
    },
    "tags": []
   },
   "outputs": [
    {
     "data": {
      "text/plain": [
       "array([0., 1.])"
      ]
     },
     "execution_count": 8,
     "metadata": {},
     "output_type": "execute_result"
    }
   ],
   "source": [
    "pel_class = np.unique(df_clean['pmmet'])\n",
    "pel_class"
   ]
  },
  {
   "cell_type": "code",
   "execution_count": 9,
   "id": "c90cdffb",
   "metadata": {
    "execution": {
     "iopub.execute_input": "2021-08-29T02:16:25.611721Z",
     "iopub.status.busy": "2021-08-29T02:16:25.610648Z",
     "iopub.status.idle": "2021-08-29T02:16:25.620984Z",
     "shell.execute_reply": "2021-08-29T02:16:25.619239Z",
     "shell.execute_reply.started": "2021-08-28T20:04:18.414987Z"
    },
    "papermill": {
     "duration": 0.073918,
     "end_time": "2021-08-29T02:16:25.621170",
     "exception": false,
     "start_time": "2021-08-29T02:16:25.547252",
     "status": "completed"
    },
    "tags": []
   },
   "outputs": [
    {
     "data": {
      "text/plain": [
       "[1278, 277]"
      ]
     },
     "execution_count": 9,
     "metadata": {},
     "output_type": "execute_result"
    }
   ],
   "source": [
    "pel_value = [sum(df_clean['pmmet']==pel_class[0]),\n",
    "             sum(df_clean['pmmet']==pel_class[1])]\n",
    "pel_value"
   ]
  },
  {
   "cell_type": "markdown",
   "id": "032b6782",
   "metadata": {
    "papermill": {
     "duration": 0.042663,
     "end_time": "2021-08-29T02:16:25.708237",
     "exception": false,
     "start_time": "2021-08-29T02:16:25.665574",
     "status": "completed"
    },
    "tags": []
   },
   "source": [
    "# ***Separate pelviceme dataset into data (X) and label (y)***"
   ]
  },
  {
   "cell_type": "code",
   "execution_count": 10,
   "id": "23dce0f9",
   "metadata": {
    "execution": {
     "iopub.execute_input": "2021-08-29T02:16:25.801451Z",
     "iopub.status.busy": "2021-08-29T02:16:25.800556Z",
     "iopub.status.idle": "2021-08-29T02:16:25.803149Z",
     "shell.execute_reply": "2021-08-29T02:16:25.803674Z",
     "shell.execute_reply.started": "2021-08-28T20:04:18.431076Z"
    },
    "papermill": {
     "duration": 0.053271,
     "end_time": "2021-08-29T02:16:25.803847",
     "exception": false,
     "start_time": "2021-08-29T02:16:25.750576",
     "status": "completed"
    },
    "tags": []
   },
   "outputs": [],
   "source": [
    "y = df_clean['pmmet'].values\n",
    "X = df_clean.drop(['pmmet'],axis = 1).values"
   ]
  },
  {
   "cell_type": "markdown",
   "id": "84537d16",
   "metadata": {
    "papermill": {
     "duration": 0.042034,
     "end_time": "2021-08-29T02:16:25.888376",
     "exception": false,
     "start_time": "2021-08-29T02:16:25.846342",
     "status": "completed"
    },
    "tags": []
   },
   "source": [
    "test_size 0.2 คือ test20% train80%"
   ]
  },
  {
   "cell_type": "markdown",
   "id": "79fbb770",
   "metadata": {
    "papermill": {
     "duration": 0.043186,
     "end_time": "2021-08-29T02:16:25.975526",
     "exception": false,
     "start_time": "2021-08-29T02:16:25.932340",
     "status": "completed"
    },
    "tags": []
   },
   "source": [
    "# Hold Out"
   ]
  },
  {
   "cell_type": "code",
   "execution_count": 11,
   "id": "f53ce4f1",
   "metadata": {
    "execution": {
     "iopub.execute_input": "2021-08-29T02:16:26.067134Z",
     "iopub.status.busy": "2021-08-29T02:16:26.066037Z",
     "iopub.status.idle": "2021-08-29T02:16:27.019910Z",
     "shell.execute_reply": "2021-08-29T02:16:27.019218Z",
     "shell.execute_reply.started": "2021-08-28T20:04:18.442921Z"
    },
    "papermill": {
     "duration": 0.999885,
     "end_time": "2021-08-29T02:16:27.020058",
     "exception": false,
     "start_time": "2021-08-29T02:16:26.020173",
     "status": "completed"
    },
    "tags": []
   },
   "outputs": [],
   "source": [
    "from sklearn.model_selection import train_test_split\n",
    "X_train, X_test, y_train, y_test = train_test_split(X,y,test_size=0.2,random_state=0)"
   ]
  },
  {
   "cell_type": "code",
   "execution_count": 12,
   "id": "d70b5c24",
   "metadata": {
    "execution": {
     "iopub.execute_input": "2021-08-29T02:16:27.111374Z",
     "iopub.status.busy": "2021-08-29T02:16:27.110652Z",
     "iopub.status.idle": "2021-08-29T02:16:27.114493Z",
     "shell.execute_reply": "2021-08-29T02:16:27.113917Z",
     "shell.execute_reply.started": "2021-08-28T20:04:18.454515Z"
    },
    "papermill": {
     "duration": 0.052045,
     "end_time": "2021-08-29T02:16:27.114630",
     "exception": false,
     "start_time": "2021-08-29T02:16:27.062585",
     "status": "completed"
    },
    "tags": []
   },
   "outputs": [],
   "source": [
    "from sklearn.model_selection import train_test_split\n",
    "X_train, X_val, y_train, y_val = train_test_split(X_train,y_train,test_size=0.2,random_state=0)"
   ]
  },
  {
   "cell_type": "code",
   "execution_count": 13,
   "id": "b5cd7f4d",
   "metadata": {
    "execution": {
     "iopub.execute_input": "2021-08-29T02:16:27.202809Z",
     "iopub.status.busy": "2021-08-29T02:16:27.201864Z",
     "iopub.status.idle": "2021-08-29T02:16:27.207658Z",
     "shell.execute_reply": "2021-08-29T02:16:27.208148Z",
     "shell.execute_reply.started": "2021-08-28T20:04:18.467384Z"
    },
    "papermill": {
     "duration": 0.051448,
     "end_time": "2021-08-29T02:16:27.208322",
     "exception": false,
     "start_time": "2021-08-29T02:16:27.156874",
     "status": "completed"
    },
    "tags": []
   },
   "outputs": [],
   "source": [
    "from sklearn.preprocessing import MinMaxScaler\n",
    "scaler = MinMaxScaler(feature_range=(0, 1))\n",
    "scaler.fit(X_train)\n",
    "X_train_norm = scaler.transform(X_train)\n",
    "X_val_norm = scaler.transform(X_val)"
   ]
  },
  {
   "cell_type": "code",
   "execution_count": 14,
   "id": "9dfb4ef9",
   "metadata": {
    "execution": {
     "iopub.execute_input": "2021-08-29T02:16:27.295315Z",
     "iopub.status.busy": "2021-08-29T02:16:27.294383Z",
     "iopub.status.idle": "2021-08-29T02:16:27.522981Z",
     "shell.execute_reply": "2021-08-29T02:16:27.522468Z",
     "shell.execute_reply.started": "2021-08-28T20:04:18.479736Z"
    },
    "papermill": {
     "duration": 0.273203,
     "end_time": "2021-08-29T02:16:27.523126",
     "exception": false,
     "start_time": "2021-08-29T02:16:27.249923",
     "status": "completed"
    },
    "tags": []
   },
   "outputs": [
    {
     "name": "stdout",
     "output_type": "stream",
     "text": [
      "Hold Out Training accuracy : 0.8353413654618473\n"
     ]
    }
   ],
   "source": [
    "from sklearn.linear_model import LogisticRegression\n",
    "clf = LogisticRegression(random_state=0, solver='liblinear')\n",
    "clf.fit(X_train_norm, y_train)\n",
    "yp = clf.predict(X_val_norm)\n",
    "acc = sum(yp == y_val)/len(y_val)\n",
    "print(\"Hold Out Training accuracy : \"+str(acc))"
   ]
  },
  {
   "cell_type": "markdown",
   "id": "e0bb4994",
   "metadata": {
    "papermill": {
     "duration": 0.042048,
     "end_time": "2021-08-29T02:16:27.607614",
     "exception": false,
     "start_time": "2021-08-29T02:16:27.565566",
     "status": "completed"
    },
    "tags": []
   },
   "source": [
    "# Cross Val"
   ]
  },
  {
   "cell_type": "code",
   "execution_count": 15,
   "id": "e3278d0e",
   "metadata": {
    "execution": {
     "iopub.execute_input": "2021-08-29T02:16:27.699368Z",
     "iopub.status.busy": "2021-08-29T02:16:27.698686Z",
     "iopub.status.idle": "2021-08-29T02:16:27.702220Z",
     "shell.execute_reply": "2021-08-29T02:16:27.702701Z",
     "shell.execute_reply.started": "2021-08-28T20:04:18.493357Z"
    },
    "papermill": {
     "duration": 0.052874,
     "end_time": "2021-08-29T02:16:27.702878",
     "exception": false,
     "start_time": "2021-08-29T02:16:27.650004",
     "status": "completed"
    },
    "tags": []
   },
   "outputs": [],
   "source": [
    "from sklearn.model_selection import train_test_split\n",
    "X_train, X_test, y_train, y_test = train_test_split(X,y,test_size=0.2,random_state=0)"
   ]
  },
  {
   "cell_type": "code",
   "execution_count": 16,
   "id": "c6555188",
   "metadata": {
    "execution": {
     "iopub.execute_input": "2021-08-29T02:16:27.791534Z",
     "iopub.status.busy": "2021-08-29T02:16:27.790870Z",
     "iopub.status.idle": "2021-08-29T02:16:27.796313Z",
     "shell.execute_reply": "2021-08-29T02:16:27.796908Z",
     "shell.execute_reply.started": "2021-08-28T20:04:18.50018Z"
    },
    "papermill": {
     "duration": 0.051539,
     "end_time": "2021-08-29T02:16:27.797080",
     "exception": false,
     "start_time": "2021-08-29T02:16:27.745541",
     "status": "completed"
    },
    "tags": []
   },
   "outputs": [],
   "source": [
    "from sklearn.preprocessing import MinMaxScaler\n",
    "scaler = MinMaxScaler(feature_range=(0, 1))\n",
    "scaler.fit(X_train)\n",
    "X_train_norm = scaler.transform(X_train)"
   ]
  },
  {
   "cell_type": "code",
   "execution_count": 17,
   "id": "a55621bc",
   "metadata": {
    "execution": {
     "iopub.execute_input": "2021-08-29T02:16:27.885764Z",
     "iopub.status.busy": "2021-08-29T02:16:27.884981Z",
     "iopub.status.idle": "2021-08-29T02:16:27.943284Z",
     "shell.execute_reply": "2021-08-29T02:16:27.943975Z",
     "shell.execute_reply.started": "2021-08-28T20:04:18.510757Z"
    },
    "papermill": {
     "duration": 0.10484,
     "end_time": "2021-08-29T02:16:27.944212",
     "exception": false,
     "start_time": "2021-08-29T02:16:27.839372",
     "status": "completed"
    },
    "tags": []
   },
   "outputs": [
    {
     "name": "stdout",
     "output_type": "stream",
     "text": [
      "10CV Training Accuracy : 0.8336193548387097\n"
     ]
    }
   ],
   "source": [
    "from sklearn.model_selection import cross_val_score\n",
    "clf = LogisticRegression(random_state=0, solver='liblinear')\n",
    "acc = cross_val_score(clf, X_train_norm, y_train, cv=10)\n",
    "print(\"10CV Training Accuracy : \"+str(acc.mean()))"
   ]
  },
  {
   "cell_type": "markdown",
   "id": "9638357a",
   "metadata": {
    "papermill": {
     "duration": 0.043844,
     "end_time": "2021-08-29T02:16:28.032101",
     "exception": false,
     "start_time": "2021-08-29T02:16:27.988257",
     "status": "completed"
    },
    "tags": []
   },
   "source": [
    "Test Accuracy"
   ]
  },
  {
   "cell_type": "code",
   "execution_count": 18,
   "id": "6909cd58",
   "metadata": {
    "execution": {
     "iopub.execute_input": "2021-08-29T02:16:28.126496Z",
     "iopub.status.busy": "2021-08-29T02:16:28.125764Z",
     "iopub.status.idle": "2021-08-29T02:16:28.129326Z",
     "shell.execute_reply": "2021-08-29T02:16:28.128811Z",
     "shell.execute_reply.started": "2021-08-28T20:04:18.564894Z"
    },
    "papermill": {
     "duration": 0.053582,
     "end_time": "2021-08-29T02:16:28.129495",
     "exception": false,
     "start_time": "2021-08-29T02:16:28.075913",
     "status": "completed"
    },
    "tags": []
   },
   "outputs": [],
   "source": [
    "from sklearn.model_selection import train_test_split\n",
    "X_train, X_test, y_train, y_test = train_test_split(X,y,test_size=0.2,random_state=0)"
   ]
  },
  {
   "cell_type": "code",
   "execution_count": 19,
   "id": "36543642",
   "metadata": {
    "execution": {
     "iopub.execute_input": "2021-08-29T02:16:28.222045Z",
     "iopub.status.busy": "2021-08-29T02:16:28.221100Z",
     "iopub.status.idle": "2021-08-29T02:16:28.224904Z",
     "shell.execute_reply": "2021-08-29T02:16:28.225403Z",
     "shell.execute_reply.started": "2021-08-28T20:04:18.571775Z"
    },
    "papermill": {
     "duration": 0.052904,
     "end_time": "2021-08-29T02:16:28.225632",
     "exception": false,
     "start_time": "2021-08-29T02:16:28.172728",
     "status": "completed"
    },
    "tags": []
   },
   "outputs": [],
   "source": [
    "from sklearn.preprocessing import MinMaxScaler\n",
    "scaler = MinMaxScaler(feature_range=(0, 1))\n",
    "scaler.fit(X_train)\n",
    "X_train_norm = scaler.transform(X_train)\n",
    "X_test_norm = scaler.transform(X_test)"
   ]
  },
  {
   "cell_type": "code",
   "execution_count": 20,
   "id": "6425eb5f",
   "metadata": {
    "execution": {
     "iopub.execute_input": "2021-08-29T02:16:28.320265Z",
     "iopub.status.busy": "2021-08-29T02:16:28.319619Z",
     "iopub.status.idle": "2021-08-29T02:16:28.329377Z",
     "shell.execute_reply": "2021-08-29T02:16:28.328680Z",
     "shell.execute_reply.started": "2021-08-28T20:04:18.587025Z"
    },
    "papermill": {
     "duration": 0.05978,
     "end_time": "2021-08-29T02:16:28.329548",
     "exception": false,
     "start_time": "2021-08-29T02:16:28.269768",
     "status": "completed"
    },
    "tags": []
   },
   "outputs": [
    {
     "name": "stdout",
     "output_type": "stream",
     "text": [
      "Test accuracy : 0.8456591639871383\n"
     ]
    }
   ],
   "source": [
    "from sklearn.linear_model import LogisticRegression\n",
    "clf = LogisticRegression(random_state=0, solver='liblinear')\n",
    "clf.fit(X_train_norm, y_train)\n",
    "yp = clf.predict(X_test_norm)\n",
    "acc = sum(yp == y_test)/len(y_test)\n",
    "print(\"Test accuracy : \"+str(acc))"
   ]
  },
  {
   "cell_type": "code",
   "execution_count": 21,
   "id": "e11b7e73",
   "metadata": {
    "execution": {
     "iopub.execute_input": "2021-08-29T02:16:28.421390Z",
     "iopub.status.busy": "2021-08-29T02:16:28.420781Z",
     "iopub.status.idle": "2021-08-29T02:16:28.429623Z",
     "shell.execute_reply": "2021-08-29T02:16:28.430184Z",
     "shell.execute_reply.started": "2021-08-28T20:04:18.603546Z"
    },
    "papermill": {
     "duration": 0.057127,
     "end_time": "2021-08-29T02:16:28.430375",
     "exception": false,
     "start_time": "2021-08-29T02:16:28.373248",
     "status": "completed"
    },
    "tags": []
   },
   "outputs": [
    {
     "data": {
      "text/plain": [
       "age               81.065940\n",
       "parity             1.795348\n",
       "hiv                0.006936\n",
       "menopaus           0.207860\n",
       "disease            0.215740\n",
       "surgery            0.234638\n",
       "conization         0.226518\n",
       "OPDsize            3.664245\n",
       "appearance         2.997285\n",
       "stage              1.383333\n",
       "pchemo             0.149920\n",
       "Wardsize           3.361144\n",
       "finalhisto         0.744274\n",
       "nodeyiel         114.208070\n",
       "RHlvsi        231725.557678\n",
       "depth              0.509143\n",
       "size               3.207926\n",
       "utmet              0.153174\n",
       "vgmargin           0.189784\n",
       "vgmet              0.357326\n",
       "pelvicme           0.388821\n",
       "pmmet              0.146025\n",
       "adnmet             0.732903\n",
       "dtype: float64"
      ]
     },
     "execution_count": 21,
     "metadata": {},
     "output_type": "execute_result"
    }
   ],
   "source": [
    "df.var(axis=0)"
   ]
  },
  {
   "cell_type": "code",
   "execution_count": 22,
   "id": "1f900758",
   "metadata": {
    "execution": {
     "iopub.execute_input": "2021-08-29T02:16:28.528952Z",
     "iopub.status.busy": "2021-08-29T02:16:28.528038Z",
     "iopub.status.idle": "2021-08-29T02:16:28.532842Z",
     "shell.execute_reply": "2021-08-29T02:16:28.533309Z",
     "shell.execute_reply.started": "2021-08-28T20:04:18.61361Z"
    },
    "papermill": {
     "duration": 0.058233,
     "end_time": "2021-08-29T02:16:28.533532",
     "exception": false,
     "start_time": "2021-08-29T02:16:28.475299",
     "status": "completed"
    },
    "tags": []
   },
   "outputs": [
    {
     "data": {
      "text/plain": [
       "hn\n",
       "2631840      126.565217\n",
       "2633481       46.723320\n",
       "2634477      162.833333\n",
       "2633633       79.753518\n",
       "2630496      137.418972\n",
       "               ...     \n",
       "3169688      159.447470\n",
       "3167041       82.158009\n",
       "2623351      104.514286\n",
       "3302539       97.457143\n",
       "3855674    43128.259881\n",
       "Length: 1723, dtype: float64"
      ]
     },
     "execution_count": 22,
     "metadata": {},
     "output_type": "execute_result"
    }
   ],
   "source": [
    "df.var(axis=1)"
   ]
  },
  {
   "cell_type": "code",
   "execution_count": 23,
   "id": "518ab584",
   "metadata": {
    "execution": {
     "iopub.execute_input": "2021-08-29T02:16:28.628715Z",
     "iopub.status.busy": "2021-08-29T02:16:28.627792Z",
     "iopub.status.idle": "2021-08-29T02:16:28.632668Z",
     "shell.execute_reply": "2021-08-29T02:16:28.633143Z",
     "shell.execute_reply.started": "2021-08-28T20:04:18.627081Z"
    },
    "papermill": {
     "duration": 0.055159,
     "end_time": "2021-08-29T02:16:28.633350",
     "exception": false,
     "start_time": "2021-08-29T02:16:28.578191",
     "status": "completed"
    },
    "tags": []
   },
   "outputs": [
    {
     "data": {
      "text/plain": [
       "(1723, 23)"
      ]
     },
     "execution_count": 23,
     "metadata": {},
     "output_type": "execute_result"
    }
   ],
   "source": [
    "df.shape"
   ]
  },
  {
   "cell_type": "code",
   "execution_count": 24,
   "id": "ee5a1953",
   "metadata": {
    "execution": {
     "iopub.execute_input": "2021-08-29T02:16:28.734125Z",
     "iopub.status.busy": "2021-08-29T02:16:28.733082Z",
     "iopub.status.idle": "2021-08-29T02:16:28.745814Z",
     "shell.execute_reply": "2021-08-29T02:16:28.745132Z",
     "shell.execute_reply.started": "2021-08-28T20:04:18.633872Z"
    },
    "papermill": {
     "duration": 0.066829,
     "end_time": "2021-08-29T02:16:28.745972",
     "exception": false,
     "start_time": "2021-08-29T02:16:28.679143",
     "status": "completed"
    },
    "tags": []
   },
   "outputs": [
    {
     "data": {
      "text/plain": [
       "(1723, 23)"
      ]
     },
     "execution_count": 24,
     "metadata": {},
     "output_type": "execute_result"
    }
   ],
   "source": [
    "df_nodup = df.drop_duplicates()\n",
    "df_nodup.shape"
   ]
  },
  {
   "cell_type": "code",
   "execution_count": 25,
   "id": "2b04312c",
   "metadata": {
    "execution": {
     "iopub.execute_input": "2021-08-29T02:16:28.842466Z",
     "iopub.status.busy": "2021-08-29T02:16:28.841743Z",
     "iopub.status.idle": "2021-08-29T02:16:29.318859Z",
     "shell.execute_reply": "2021-08-29T02:16:29.318070Z",
     "shell.execute_reply.started": "2021-08-28T20:04:18.652718Z"
    },
    "papermill": {
     "duration": 0.528054,
     "end_time": "2021-08-29T02:16:29.319068",
     "exception": false,
     "start_time": "2021-08-29T02:16:28.791014",
     "status": "completed"
    },
    "tags": []
   },
   "outputs": [
    {
     "data": {
      "text/plain": [
       "(1723, 23)"
      ]
     },
     "execution_count": 25,
     "metadata": {},
     "output_type": "execute_result"
    }
   ],
   "source": [
    "df_nodup2 = df.T.drop_duplicates().T\n",
    "df_nodup2.shape"
   ]
  },
  {
   "cell_type": "code",
   "execution_count": 26,
   "id": "d114ed2c",
   "metadata": {
    "execution": {
     "iopub.execute_input": "2021-08-29T02:16:29.436870Z",
     "iopub.status.busy": "2021-08-29T02:16:29.432580Z",
     "iopub.status.idle": "2021-08-29T02:16:29.453229Z",
     "shell.execute_reply": "2021-08-29T02:16:29.453946Z",
     "shell.execute_reply.started": "2021-08-28T20:04:18.911184Z"
    },
    "papermill": {
     "duration": 0.073792,
     "end_time": "2021-08-29T02:16:29.454245",
     "exception": false,
     "start_time": "2021-08-29T02:16:29.380453",
     "status": "completed"
    },
    "tags": []
   },
   "outputs": [
    {
     "data": {
      "text/plain": [
       "age         age           1.000000\n",
       "finalhisto  finalhisto    1.000000\n",
       "menopaus    menopaus      1.000000\n",
       "disease     disease       1.000000\n",
       "surgery     surgery       1.000000\n",
       "conization  conization    1.000000\n",
       "OPDsize     OPDsize       1.000000\n",
       "appearance  appearance    1.000000\n",
       "stage       stage         1.000000\n",
       "pchemo      pchemo        1.000000\n",
       "nodeyiel    nodeyiel      1.000000\n",
       "parity      parity        1.000000\n",
       "RHlvsi      RHlvsi        1.000000\n",
       "depth       depth         1.000000\n",
       "size        size          1.000000\n",
       "utmet       utmet         1.000000\n",
       "vgmargin    vgmargin      1.000000\n",
       "vgmet       vgmet         1.000000\n",
       "pelvicme    pelvicme      1.000000\n",
       "pmmet       pmmet         1.000000\n",
       "hiv         hiv           1.000000\n",
       "Wardsize    Wardsize      1.000000\n",
       "adnmet      adnmet        1.000000\n",
       "OPDsize     Wardsize      0.875699\n",
       "Wardsize    OPDsize       0.875699\n",
       "size        Wardsize      0.804733\n",
       "Wardsize    size          0.804733\n",
       "appearance  conization    0.794773\n",
       "conization  appearance    0.794773\n",
       "age         menopaus      0.721046\n",
       "menopaus    age           0.721046\n",
       "OPDsize     size          0.717119\n",
       "size        OPDsize       0.717119\n",
       "OPDsize     stage         0.593974\n",
       "stage       OPDsize       0.593974\n",
       "Wardsize    stage         0.561104\n",
       "stage       Wardsize      0.561104\n",
       "size        stage         0.505345\n",
       "stage       size          0.505345\n",
       "vgmet       vgmargin      0.500983\n",
       "vgmargin    vgmet         0.500983\n",
       "depth       size          0.450857\n",
       "size        depth         0.450857\n",
       "            pmmet         0.398485\n",
       "pmmet       size          0.398485\n",
       "pchemo      OPDsize       0.372687\n",
       "OPDsize     pchemo        0.372687\n",
       "depth       Wardsize      0.339828\n",
       "Wardsize    depth         0.339828\n",
       "disease     age           0.323504\n",
       "dtype: float64"
      ]
     },
     "execution_count": 26,
     "metadata": {},
     "output_type": "execute_result"
    }
   ],
   "source": [
    "s = df.corr().unstack()\n",
    "so = s.sort_values(ascending=False)\n",
    "so[0:50]"
   ]
  },
  {
   "cell_type": "code",
   "execution_count": 27,
   "id": "4a65be2e",
   "metadata": {
    "execution": {
     "iopub.execute_input": "2021-08-29T02:16:29.579783Z",
     "iopub.status.busy": "2021-08-29T02:16:29.578743Z",
     "iopub.status.idle": "2021-08-29T02:16:29.585550Z",
     "shell.execute_reply": "2021-08-29T02:16:29.586144Z",
     "shell.execute_reply.started": "2021-08-28T20:04:18.927666Z"
    },
    "papermill": {
     "duration": 0.083063,
     "end_time": "2021-08-29T02:16:29.586337",
     "exception": false,
     "start_time": "2021-08-29T02:16:29.503274",
     "status": "completed"
    },
    "tags": []
   },
   "outputs": [
    {
     "data": {
      "text/plain": [
       "hiv         hiv           1.000000\n",
       "Wardsize    Wardsize      1.000000\n",
       "adnmet      adnmet        1.000000\n",
       "OPDsize     Wardsize      0.875699\n",
       "Wardsize    OPDsize       0.875699\n",
       "size        Wardsize      0.804733\n",
       "Wardsize    size          0.804733\n",
       "appearance  conization    0.794773\n",
       "conization  appearance    0.794773\n",
       "age         menopaus      0.721046\n",
       "menopaus    age           0.721046\n",
       "OPDsize     size          0.717119\n",
       "size        OPDsize       0.717119\n",
       "OPDsize     stage         0.593974\n",
       "stage       OPDsize       0.593974\n",
       "Wardsize    stage         0.561104\n",
       "stage       Wardsize      0.561104\n",
       "size        stage         0.505345\n",
       "stage       size          0.505345\n",
       "vgmet       vgmargin      0.500983\n",
       "vgmargin    vgmet         0.500983\n",
       "depth       size          0.450857\n",
       "size        depth         0.450857\n",
       "            pmmet         0.398485\n",
       "pmmet       size          0.398485\n",
       "pchemo      OPDsize       0.372687\n",
       "OPDsize     pchemo        0.372687\n",
       "depth       Wardsize      0.339828\n",
       "Wardsize    depth         0.339828\n",
       "disease     age           0.323504\n",
       "dtype: float64"
      ]
     },
     "execution_count": 27,
     "metadata": {},
     "output_type": "execute_result"
    }
   ],
   "source": [
    "s = df.corr().unstack()\n",
    "so = s.sort_values(ascending=False)\n",
    "so[20:50]"
   ]
  },
  {
   "cell_type": "code",
   "execution_count": 28,
   "id": "4a9323c2",
   "metadata": {
    "execution": {
     "iopub.execute_input": "2021-08-29T02:16:29.682487Z",
     "iopub.status.busy": "2021-08-29T02:16:29.681529Z",
     "iopub.status.idle": "2021-08-29T02:16:29.687637Z",
     "shell.execute_reply": "2021-08-29T02:16:29.688235Z",
     "shell.execute_reply.started": "2021-08-28T20:04:18.944915Z"
    },
    "papermill": {
     "duration": 0.055915,
     "end_time": "2021-08-29T02:16:29.688450",
     "exception": false,
     "start_time": "2021-08-29T02:16:29.632535",
     "status": "completed"
    },
    "tags": []
   },
   "outputs": [
    {
     "data": {
      "text/plain": [
       "(1244, 14)"
      ]
     },
     "execution_count": 28,
     "metadata": {},
     "output_type": "execute_result"
    }
   ],
   "source": [
    "X_train.shape"
   ]
  },
  {
   "cell_type": "markdown",
   "id": "536c444c",
   "metadata": {
    "papermill": {
     "duration": 0.0459,
     "end_time": "2021-08-29T02:16:29.780579",
     "exception": false,
     "start_time": "2021-08-29T02:16:29.734679",
     "status": "completed"
    },
    "tags": []
   },
   "source": [
    "# Feature Reduction"
   ]
  },
  {
   "cell_type": "markdown",
   "id": "fd77b535",
   "metadata": {
    "papermill": {
     "duration": 0.046358,
     "end_time": "2021-08-29T02:16:29.874143",
     "exception": false,
     "start_time": "2021-08-29T02:16:29.827785",
     "status": "completed"
    },
    "tags": []
   },
   "source": [
    "# PCA"
   ]
  },
  {
   "cell_type": "code",
   "execution_count": 29,
   "id": "a50b960e",
   "metadata": {
    "execution": {
     "iopub.execute_input": "2021-08-29T02:16:29.974028Z",
     "iopub.status.busy": "2021-08-29T02:16:29.973064Z",
     "iopub.status.idle": "2021-08-29T02:16:30.074452Z",
     "shell.execute_reply": "2021-08-29T02:16:30.074983Z",
     "shell.execute_reply.started": "2021-08-28T20:04:18.951534Z"
    },
    "papermill": {
     "duration": 0.151995,
     "end_time": "2021-08-29T02:16:30.075173",
     "exception": false,
     "start_time": "2021-08-29T02:16:29.923178",
     "status": "completed"
    },
    "tags": []
   },
   "outputs": [],
   "source": [
    "from sklearn.decomposition import PCA\n",
    "pca = PCA(n_components = 5)\n",
    "pca.fit(X_train)\n",
    "X_train_pca = pca.transform(X_train)\n",
    "X_test_pca = pca.transform(X_test)\n",
    "\n",
    "from sklearn.preprocessing import MinMaxScaler\n",
    "scaler = MinMaxScaler(feature_range=(0, 1))\n",
    "scaler.fit(X_train_pca)\n",
    "X_train_norm = scaler.transform(X_train_pca)\n",
    "X_test_norm = scaler.transform(X_test_pca)"
   ]
  },
  {
   "cell_type": "code",
   "execution_count": 30,
   "id": "b4d40059",
   "metadata": {
    "execution": {
     "iopub.execute_input": "2021-08-29T02:16:30.171001Z",
     "iopub.status.busy": "2021-08-29T02:16:30.170087Z",
     "iopub.status.idle": "2021-08-29T02:16:30.183364Z",
     "shell.execute_reply": "2021-08-29T02:16:30.182643Z",
     "shell.execute_reply.started": "2021-08-28T20:04:18.964748Z"
    },
    "papermill": {
     "duration": 0.062269,
     "end_time": "2021-08-29T02:16:30.183565",
     "exception": false,
     "start_time": "2021-08-29T02:16:30.121296",
     "status": "completed"
    },
    "tags": []
   },
   "outputs": [
    {
     "name": "stdout",
     "output_type": "stream",
     "text": [
      "Test accuracy : 0.8456591639871383\n"
     ]
    }
   ],
   "source": [
    "from sklearn.linear_model import LogisticRegression\n",
    "clf = LogisticRegression(random_state=0, solver='liblinear')\n",
    "clf.fit(X_train_norm, y_train)\n",
    "yp = clf.predict(X_test_norm)\n",
    "acc = sum(yp == y_test)/len(y_test)\n",
    "print(\"Test accuracy : \"+str(acc))"
   ]
  },
  {
   "cell_type": "markdown",
   "id": "bcf1645d",
   "metadata": {
    "papermill": {
     "duration": 0.045889,
     "end_time": "2021-08-29T02:16:30.275947",
     "exception": false,
     "start_time": "2021-08-29T02:16:30.230058",
     "status": "completed"
    },
    "tags": []
   },
   "source": [
    "# TSNE"
   ]
  },
  {
   "cell_type": "code",
   "execution_count": 31,
   "id": "84642ded",
   "metadata": {
    "execution": {
     "iopub.execute_input": "2021-08-29T02:16:30.374345Z",
     "iopub.status.busy": "2021-08-29T02:16:30.373579Z",
     "iopub.status.idle": "2021-08-29T02:16:44.941217Z",
     "shell.execute_reply": "2021-08-29T02:16:44.942319Z",
     "shell.execute_reply.started": "2021-08-28T20:04:18.977148Z"
    },
    "papermill": {
     "duration": 14.620661,
     "end_time": "2021-08-29T02:16:44.942584",
     "exception": false,
     "start_time": "2021-08-29T02:16:30.321923",
     "status": "completed"
    },
    "tags": []
   },
   "outputs": [],
   "source": [
    "from sklearn.manifold import TSNE\n",
    "tsne = TSNE(n_components = 2)\n",
    "tsne.fit(X_train)\n",
    "X_train_tsne = tsne.fit_transform(X_train)\n",
    "X_test_tsne = tsne.fit_transform(X_test)\n",
    "\n",
    "from sklearn.preprocessing import MinMaxScaler\n",
    "scaler = MinMaxScaler(feature_range=(0, 1))\n",
    "scaler.fit(X_train_tsne)\n",
    "X_train_norm = scaler.transform(X_train_tsne)\n",
    "X_test_norm = scaler.transform(X_test_tsne)"
   ]
  },
  {
   "cell_type": "code",
   "execution_count": 32,
   "id": "db2aa603",
   "metadata": {
    "execution": {
     "iopub.execute_input": "2021-08-29T02:16:45.046461Z",
     "iopub.status.busy": "2021-08-29T02:16:45.045493Z",
     "iopub.status.idle": "2021-08-29T02:16:45.054388Z",
     "shell.execute_reply": "2021-08-29T02:16:45.054933Z",
     "shell.execute_reply.started": "2021-08-28T20:04:31.301421Z"
    },
    "papermill": {
     "duration": 0.063048,
     "end_time": "2021-08-29T02:16:45.055127",
     "exception": false,
     "start_time": "2021-08-29T02:16:44.992079",
     "status": "completed"
    },
    "tags": []
   },
   "outputs": [
    {
     "name": "stdout",
     "output_type": "stream",
     "text": [
      "Test accuracy : 0.8295819935691319\n"
     ]
    }
   ],
   "source": [
    "from sklearn.linear_model import LogisticRegression\n",
    "clf = LogisticRegression(random_state=0, solver='liblinear')\n",
    "clf.fit(X_train_norm, y_train)\n",
    "yp = clf.predict(X_test_norm)\n",
    "acc = sum(yp == y_test)/len(y_test)\n",
    "print(\"Test accuracy : \"+str(acc))"
   ]
  },
  {
   "cell_type": "markdown",
   "id": "78d80883",
   "metadata": {
    "papermill": {
     "duration": 0.048181,
     "end_time": "2021-08-29T02:16:45.151396",
     "exception": false,
     "start_time": "2021-08-29T02:16:45.103215",
     "status": "completed"
    },
    "tags": []
   },
   "source": [
    "# Feature Selection"
   ]
  },
  {
   "cell_type": "markdown",
   "id": "c67a7d6b",
   "metadata": {
    "papermill": {
     "duration": 0.046292,
     "end_time": "2021-08-29T02:16:45.244757",
     "exception": false,
     "start_time": "2021-08-29T02:16:45.198465",
     "status": "completed"
    },
    "tags": []
   },
   "source": [
    "# Filter Method ANOVA p-value"
   ]
  },
  {
   "cell_type": "code",
   "execution_count": 33,
   "id": "624bd485",
   "metadata": {
    "execution": {
     "iopub.execute_input": "2021-08-29T02:16:45.341934Z",
     "iopub.status.busy": "2021-08-29T02:16:45.341229Z",
     "iopub.status.idle": "2021-08-29T02:16:45.364153Z",
     "shell.execute_reply": "2021-08-29T02:16:45.362787Z",
     "shell.execute_reply.started": "2021-08-28T20:04:31.314265Z"
    },
    "papermill": {
     "duration": 0.072658,
     "end_time": "2021-08-29T02:16:45.364331",
     "exception": false,
     "start_time": "2021-08-29T02:16:45.291673",
     "status": "completed"
    },
    "tags": []
   },
   "outputs": [],
   "source": [
    "from sklearn.feature_selection import SelectKBest\n",
    "from sklearn.feature_selection import f_classif\n",
    "fs = SelectKBest(f_classif, k=5)\n",
    "fs.fit(X_train, y_train)\n",
    "X_train_fs = fs.transform(X_train)\n",
    "X_test_fs = fs.transform(X_test)\n",
    "\n",
    "from sklearn.preprocessing import MinMaxScaler\n",
    "scaler = MinMaxScaler(feature_range=(0, 1))\n",
    "scaler.fit(X_train_fs)\n",
    "X_train_norm = scaler.transform(X_train_fs)\n",
    "X_test_norm = scaler.transform(X_test_fs)"
   ]
  },
  {
   "cell_type": "code",
   "execution_count": 34,
   "id": "28213670",
   "metadata": {
    "execution": {
     "iopub.execute_input": "2021-08-29T02:16:45.466447Z",
     "iopub.status.busy": "2021-08-29T02:16:45.465458Z",
     "iopub.status.idle": "2021-08-29T02:16:45.470278Z",
     "shell.execute_reply": "2021-08-29T02:16:45.469586Z",
     "shell.execute_reply.started": "2021-08-28T20:04:31.325811Z"
    },
    "papermill": {
     "duration": 0.058606,
     "end_time": "2021-08-29T02:16:45.470452",
     "exception": false,
     "start_time": "2021-08-29T02:16:45.411846",
     "status": "completed"
    },
    "tags": []
   },
   "outputs": [
    {
     "data": {
      "text/plain": [
       "array([11,  7,  8,  6, 12, 13,  3,  0, 10,  2,  4,  1,  5,  9])"
      ]
     },
     "execution_count": 34,
     "metadata": {},
     "output_type": "execute_result"
    }
   ],
   "source": [
    "np.argsort(-fs.scores_)"
   ]
  },
  {
   "cell_type": "code",
   "execution_count": 35,
   "id": "0904e588",
   "metadata": {
    "execution": {
     "iopub.execute_input": "2021-08-29T02:16:45.568811Z",
     "iopub.status.busy": "2021-08-29T02:16:45.568155Z",
     "iopub.status.idle": "2021-08-29T02:16:45.579846Z",
     "shell.execute_reply": "2021-08-29T02:16:45.579279Z",
     "shell.execute_reply.started": "2021-08-28T20:04:31.333738Z"
    },
    "papermill": {
     "duration": 0.061719,
     "end_time": "2021-08-29T02:16:45.579995",
     "exception": false,
     "start_time": "2021-08-29T02:16:45.518276",
     "status": "completed"
    },
    "tags": []
   },
   "outputs": [
    {
     "name": "stdout",
     "output_type": "stream",
     "text": [
      "Test accuracy : 0.8553054662379421\n"
     ]
    }
   ],
   "source": [
    "from sklearn.linear_model import LogisticRegression\n",
    "clf = LogisticRegression(random_state=0, solver='liblinear')\n",
    "clf.fit(X_train_norm, y_train)\n",
    "yp = clf.predict(X_test_norm)\n",
    "acc = sum(yp == y_test)/len(y_test)\n",
    "print(\"Test accuracy : \"+str(acc))"
   ]
  },
  {
   "cell_type": "markdown",
   "id": "7b874b49",
   "metadata": {
    "papermill": {
     "duration": 0.047752,
     "end_time": "2021-08-29T02:16:45.675594",
     "exception": false,
     "start_time": "2021-08-29T02:16:45.627842",
     "status": "completed"
    },
    "tags": []
   },
   "source": [
    "# Wrapper Method"
   ]
  },
  {
   "cell_type": "markdown",
   "id": "ce6f17c9",
   "metadata": {
    "papermill": {
     "duration": 0.047419,
     "end_time": "2021-08-29T02:16:45.772732",
     "exception": false,
     "start_time": "2021-08-29T02:16:45.725313",
     "status": "completed"
    },
    "tags": []
   },
   "source": [
    "ต้อง ver. ใหม่กว่านี้"
   ]
  },
  {
   "cell_type": "markdown",
   "id": "fbedc713",
   "metadata": {
    "papermill": {
     "duration": 0.047889,
     "end_time": "2021-08-29T02:16:45.869902",
     "exception": false,
     "start_time": "2021-08-29T02:16:45.822013",
     "status": "completed"
    },
    "tags": []
   },
   "source": [
    "# Pipeline"
   ]
  },
  {
   "cell_type": "code",
   "execution_count": 36,
   "id": "051b2683",
   "metadata": {
    "execution": {
     "iopub.execute_input": "2021-08-29T02:16:45.971554Z",
     "iopub.status.busy": "2021-08-29T02:16:45.970591Z",
     "iopub.status.idle": "2021-08-29T02:16:46.274397Z",
     "shell.execute_reply": "2021-08-29T02:16:46.273879Z",
     "shell.execute_reply.started": "2021-08-28T21:11:09.571027Z"
    },
    "papermill": {
     "duration": 0.356514,
     "end_time": "2021-08-29T02:16:46.274582",
     "exception": false,
     "start_time": "2021-08-29T02:16:45.918068",
     "status": "completed"
    },
    "tags": []
   },
   "outputs": [
    {
     "data": {
      "text/plain": [
       "Pipeline(steps=[('scaler', MinMaxScaler()),\n",
       "                ('feature_selection', SelectKBest()),\n",
       "                ('classification',\n",
       "                 GridSearchCV(cv=5,\n",
       "                              estimator=LogisticRegression(random_state=0,\n",
       "                                                           solver='liblinear'),\n",
       "                              param_grid={'C': [1, 2, 4, 8, 16]}))])"
      ]
     },
     "execution_count": 36,
     "metadata": {},
     "output_type": "execute_result"
    }
   ],
   "source": [
    "from imblearn.over_sampling import SMOTE\n",
    "from sklearn.linear_model import LogisticRegression\n",
    "from sklearn.preprocessing import MinMaxScaler\n",
    "from sklearn.model_selection import GridSearchCV\n",
    "from sklearn.feature_selection import SelectKBest\n",
    "from sklearn.feature_selection import f_classif\n",
    "sm = SMOTE(random_state=1)\n",
    "X_res, y_res = sm.fit_resample(X_train, y_train)\n",
    "\n",
    "params = {'C' : [1, 2, 4, 8, 16]}\n",
    "\n",
    "from sklearn.pipeline import Pipeline\n",
    "clf = Pipeline([\n",
    "  ('scaler', MinMaxScaler(feature_range=(0, 1))),\n",
    "  ('feature_selection', SelectKBest(f_classif, k=10)),\n",
    "  ('classification', GridSearchCV(LogisticRegression(random_state=0, solver='liblinear'),params, cv=5))\n",
    "])\n",
    "clf.fit(X_res, y_res)"
   ]
  },
  {
   "cell_type": "code",
   "execution_count": 37,
   "id": "3c0a3606",
   "metadata": {
    "execution": {
     "iopub.execute_input": "2021-08-29T02:16:46.378015Z",
     "iopub.status.busy": "2021-08-29T02:16:46.377290Z",
     "iopub.status.idle": "2021-08-29T02:16:47.738868Z",
     "shell.execute_reply": "2021-08-29T02:16:47.738100Z",
     "shell.execute_reply.started": "2021-08-28T21:13:05.133813Z"
    },
    "papermill": {
     "duration": 1.416068,
     "end_time": "2021-08-29T02:16:47.739064",
     "exception": false,
     "start_time": "2021-08-29T02:16:46.322996",
     "status": "completed"
    },
    "tags": []
   },
   "outputs": [
    {
     "name": "stdout",
     "output_type": "stream",
     "text": [
      "10CV Training Accuracy : 0.7740196078431372\n"
     ]
    }
   ],
   "source": [
    "from sklearn.model_selection import cross_val_score\n",
    "acc = cross_val_score(clf, X_res, y_res, cv=10)\n",
    "print(\"10CV Training Accuracy : \"+str(acc.mean()))"
   ]
  },
  {
   "cell_type": "code",
   "execution_count": 38,
   "id": "d038e12a",
   "metadata": {
    "execution": {
     "iopub.execute_input": "2021-08-29T02:16:47.845679Z",
     "iopub.status.busy": "2021-08-29T02:16:47.843547Z",
     "iopub.status.idle": "2021-08-29T02:16:47.850113Z",
     "shell.execute_reply": "2021-08-29T02:16:47.850586Z",
     "shell.execute_reply.started": "2021-08-28T21:11:59.586783Z"
    },
    "papermill": {
     "duration": 0.063016,
     "end_time": "2021-08-29T02:16:47.850779",
     "exception": false,
     "start_time": "2021-08-29T02:16:47.787763",
     "status": "completed"
    },
    "tags": []
   },
   "outputs": [
    {
     "name": "stdout",
     "output_type": "stream",
     "text": [
      "Test accuracy : 0.7331189710610932\n"
     ]
    }
   ],
   "source": [
    "yp = clf.predict(X_test)\n",
    "acc = sum(yp == y_test)/len(y_test)\n",
    "print(\"Test accuracy : \"+str(acc))"
   ]
  },
  {
   "cell_type": "markdown",
   "id": "a8a767e6",
   "metadata": {
    "papermill": {
     "duration": 0.048667,
     "end_time": "2021-08-29T02:16:47.948064",
     "exception": false,
     "start_time": "2021-08-29T02:16:47.899397",
     "status": "completed"
    },
    "tags": []
   },
   "source": [
    "# Homework"
   ]
  },
  {
   "cell_type": "code",
   "execution_count": 39,
   "id": "cd9adcd5",
   "metadata": {
    "execution": {
     "iopub.execute_input": "2021-08-29T02:16:48.056641Z",
     "iopub.status.busy": "2021-08-29T02:16:48.055927Z",
     "iopub.status.idle": "2021-08-29T02:37:15.045894Z",
     "shell.execute_reply": "2021-08-29T02:37:15.046399Z",
     "shell.execute_reply.started": "2021-08-28T21:34:02.212829Z"
    },
    "papermill": {
     "duration": 1227.048881,
     "end_time": "2021-08-29T02:37:15.046639",
     "exception": false,
     "start_time": "2021-08-29T02:16:47.997758",
     "status": "completed"
    },
    "tags": []
   },
   "outputs": [
    {
     "data": {
      "text/plain": [
       "Pipeline(steps=[('scaler', MinMaxScaler()),\n",
       "                ('feature_selection', SelectKBest()),\n",
       "                ('classification',\n",
       "                 GridSearchCV(cv=10,\n",
       "                              estimator=RandomForestClassifier(random_state=0),\n",
       "                              param_grid={'criterion': ['gini', 'entropy'],\n",
       "                                          'max_features': ['sqrt', 0.5, 0.8],\n",
       "                                          'min_samples_leaf': [1, 2, 4, 8, 16,\n",
       "                                                               32],\n",
       "                                          'n_estimators': [10, 50, 100, 200,\n",
       "                                                           500]}))])"
      ]
     },
     "execution_count": 39,
     "metadata": {},
     "output_type": "execute_result"
    }
   ],
   "source": [
    "from imblearn.over_sampling import SMOTE\n",
    "from sklearn.ensemble import RandomForestClassifier\n",
    "from sklearn.preprocessing import MinMaxScaler\n",
    "from sklearn.model_selection import GridSearchCV\n",
    "from sklearn.feature_selection import SelectKBest\n",
    "from sklearn.feature_selection import f_classif\n",
    "sm = SMOTE(random_state=1)\n",
    "X_res, y_res = sm.fit_resample(X_train, y_train)\n",
    "\n",
    "params = {\n",
    "    'n_estimators' : [10,50,100,200,500],\n",
    "    'min_samples_leaf' : [1,2,4,8,16,32],\n",
    "    'max_features' : ['sqrt',0.5,0.8],\n",
    "    'criterion' : ['gini','entropy']}\n",
    "\n",
    "from sklearn.pipeline import Pipeline\n",
    "clf = Pipeline([\n",
    "  ('scaler', MinMaxScaler(feature_range=(0, 1))),\n",
    "  ('feature_selection', SelectKBest(f_classif, k=10)),\n",
    "  ('classification', GridSearchCV(RandomForestClassifier(random_state=0),params, cv = 10))\n",
    "])\n",
    "clf.fit(X_res, y_res)"
   ]
  },
  {
   "cell_type": "code",
   "execution_count": 40,
   "id": "9dc1b0c2",
   "metadata": {
    "execution": {
     "iopub.execute_input": "2021-08-29T02:37:15.153043Z",
     "iopub.status.busy": "2021-08-29T02:37:15.151984Z",
     "iopub.status.idle": "2021-08-29T05:47:32.264257Z",
     "shell.execute_reply": "2021-08-29T05:47:32.264806Z"
    },
    "papermill": {
     "duration": 11417.168865,
     "end_time": "2021-08-29T05:47:32.265068",
     "exception": false,
     "start_time": "2021-08-29T02:37:15.096203",
     "status": "completed"
    },
    "tags": []
   },
   "outputs": [
    {
     "name": "stdout",
     "output_type": "stream",
     "text": [
      "10CV Training Accuracy : 0.8862745098039216\n"
     ]
    }
   ],
   "source": [
    "from sklearn.model_selection import cross_val_score\n",
    "acc = cross_val_score(clf, X_res, y_res, cv=10)\n",
    "print(\"10CV Training Accuracy : \"+str(acc.mean()))"
   ]
  },
  {
   "cell_type": "code",
   "execution_count": 41,
   "id": "d8f3fc51",
   "metadata": {
    "execution": {
     "iopub.execute_input": "2021-08-29T05:47:32.367677Z",
     "iopub.status.busy": "2021-08-29T05:47:32.366978Z",
     "iopub.status.idle": "2021-08-29T05:47:32.394941Z",
     "shell.execute_reply": "2021-08-29T05:47:32.394256Z",
     "shell.execute_reply.started": "2021-08-28T21:31:02.073217Z"
    },
    "papermill": {
     "duration": 0.080891,
     "end_time": "2021-08-29T05:47:32.395097",
     "exception": false,
     "start_time": "2021-08-29T05:47:32.314206",
     "status": "completed"
    },
    "tags": []
   },
   "outputs": [
    {
     "name": "stdout",
     "output_type": "stream",
     "text": [
      "Test accuracy : 0.8167202572347267\n"
     ]
    }
   ],
   "source": [
    "yp = clf.predict(X_test)\n",
    "acc = sum(yp == y_test)/len(y_test)\n",
    "print(\"Test accuracy : \"+str(acc))"
   ]
  }
 ],
 "metadata": {
  "kernelspec": {
   "display_name": "Python 3",
   "language": "python",
   "name": "python3"
  },
  "language_info": {
   "codemirror_mode": {
    "name": "ipython",
    "version": 3
   },
   "file_extension": ".py",
   "mimetype": "text/x-python",
   "name": "python",
   "nbconvert_exporter": "python",
   "pygments_lexer": "ipython3",
   "version": "3.7.10"
  },
  "papermill": {
   "default_parameters": {},
   "duration": 12677.235938,
   "end_time": "2021-08-29T05:47:33.260355",
   "environment_variables": {},
   "exception": null,
   "input_path": "__notebook__.ipynb",
   "output_path": "__notebook__.ipynb",
   "parameters": {},
   "start_time": "2021-08-29T02:16:16.024417",
   "version": "2.3.3"
  }
 },
 "nbformat": 4,
 "nbformat_minor": 5
}
